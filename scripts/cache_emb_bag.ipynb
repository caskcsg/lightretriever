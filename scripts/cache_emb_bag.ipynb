{
 "cells": [
  {
   "cell_type": "markdown",
   "id": "8512ccff",
   "metadata": {},
   "source": [
    "# Example of EmbeddingBag Caching\n",
    "This example shows how to cache a EmbeddingBag for LightRetriever's Asymmetric Dense Retrieval."
   ]
  },
  {
   "cell_type": "markdown",
   "id": "d14be913",
   "metadata": {},
   "source": [
    "### Load Fine-tuned LightRetriever as Huggingface Model"
   ]
  },
  {
   "cell_type": "code",
   "execution_count": 5,
   "id": "bb6032e4",
   "metadata": {},
   "outputs": [],
   "source": [
    "import torch\n",
    "from transformers import AutoModelForCausalLM, AutoTokenizer\n",
    "from peft import LoraConfig, PeftModel, LoraModel\n",
    "\n",
    "model_name_or_path = \"lightretriever/lightretriever-qwen2.5-1.5b\"\n",
    "device = torch.device(\"cuda:0\")\n",
    "\n",
    "# Load Tokenizer\n",
    "tokenizer = AutoTokenizer.from_pretrained(model_name_or_path)\n",
    "\n",
    "# Load Base HF Model & Peft Adapters\n",
    "config = LoraConfig.from_pretrained(model_name_or_path)\n",
    "base_model = AutoModelForCausalLM.from_pretrained(\n",
    "    config.base_model_name_or_path, \n",
    "    torch_dtype=torch.bfloat16, \n",
    "    attn_implementation=\"flash_attention_2\",\n",
    "    device_map=device,\n",
    ")\n",
    "hf_model: LoraModel = PeftModel.from_pretrained(base_model, model_name_or_path, config=config)\n",
    "hf_model = hf_model.merge_and_unload()  # Merge to single HF Model"
   ]
  },
  {
   "cell_type": "markdown",
   "id": "0de0435d",
   "metadata": {},
   "source": [
    "### Construct EmbeddingBag\n",
    "Construct prompted token embedding bags. \n",
    "\n",
    "1. `construct_embedding_bag` will construct inputs formated in `[bos] + [prompts] + [vocab_token_id] + [eos]`.\n",
    "2. It pools the eos hidden states as the embedding of coresponding vocab_token_id. \n",
    "3. vocab_token_id ranges [0, len(tokenizer))."
   ]
  },
  {
   "cell_type": "code",
   "execution_count": null,
   "id": "db9aaaa7",
   "metadata": {},
   "outputs": [],
   "source": [
    "from lightretriever.finetune.nonctx_emb_utils import construct_embedding_bag\n",
    "\n",
    "emb_bag = construct_embedding_bag(\n",
    "    model=hf_model.model,\n",
    "    tokenizer=tokenizer,\n",
    "    prompt=\"Instruct: Given a web search query, retrieve relevant passages that answer the query\\nQuery: \",\n",
    "    batch_size=1000,\n",
    ")"
   ]
  },
  {
   "cell_type": "markdown",
   "id": "5bf754c8",
   "metadata": {},
   "source": [
    "### Save EmbeddingBag\n",
    "Save the EmbeddingBag matrix with shape `[vocab_size, hidden_dim]` to `save_path`\n"
   ]
  },
  {
   "cell_type": "code",
   "execution_count": null,
   "id": "c5ffb4a3",
   "metadata": {},
   "outputs": [],
   "source": [
    "torch.save(emb_bag.weight, \"web_search_en.emb_bag.pt\")"
   ]
  }
 ],
 "metadata": {
  "fileId": "76772193-27a1-45fd-ad24-9732a2d4bebb",
  "filePath": "/mnt/bn/search-recall-lq-arnold/maguangyuan/internal/lightretriever/scripts/cache_emb_bag.ipynb",
  "kernelspec": {
   "display_name": "base",
   "language": "python",
   "name": "python3"
  },
  "language_info": {
   "codemirror_mode": {
    "name": "ipython",
    "version": 3
   },
   "file_extension": ".py",
   "mimetype": "text/x-python",
   "name": "python",
   "nbconvert_exporter": "python",
   "pygments_lexer": "ipython3",
   "version": "3.12.11"
  }
 },
 "nbformat": 4,
 "nbformat_minor": 5
}
